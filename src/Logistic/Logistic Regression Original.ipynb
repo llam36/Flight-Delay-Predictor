{
 "cells": [
  {
   "cell_type": "code",
   "execution_count": 1,
   "id": "012ee27b",
   "metadata": {},
   "outputs": [],
   "source": [
    "import pandas as pd\n",
    "from sklearn.linear_model import LogisticRegression\n",
    "from sklearn.metrics import accuracy_score, confusion_matrix, ConfusionMatrixDisplay\n",
    "import matplotlib.pyplot as plt\n",
    "import joblib\n",
    "\n"
   ]
  },
  {
   "cell_type": "code",
   "execution_count": 2,
   "id": "1cd196f2",
   "metadata": {},
   "outputs": [],
   "source": [
    "# Load training features (X_train) and labels (y_train) from CSV files\n",
    "X_train = pd.read_csv('../preprocessed/X_train.csv')\n",
    "y_train = pd.read_csv('../preprocessed/y_train.csv')\n",
    "\n",
    "# Load testing features (X_test) and labels (y_test) from CSV files\n",
    "X_test = pd.read_csv('../preprocessed/X_test.csv')\n",
    "y_test = pd.read_csv('../preprocessed/y_test.csv')"
   ]
  },
  {
   "cell_type": "code",
   "execution_count": 3,
   "id": "f6f9e725",
   "metadata": {},
   "outputs": [
    {
     "name": "stderr",
     "output_type": "stream",
     "text": [
      "[Parallel(n_jobs=1)]: Using backend SequentialBackend with 1 concurrent workers.\n"
     ]
    },
    {
     "name": "stdout",
     "output_type": "stream",
     "text": [
      "RUNNING THE L-BFGS-B CODE\n",
      "\n",
      "           * * *\n",
      "\n",
      "Machine precision = 2.220D-16\n",
      " N =           19     M =           10\n",
      "\n",
      "At X0         0 variables are exactly at the bounds\n",
      "\n",
      "At iterate    0    f=  2.09345D+07    |proj g|=  7.01193D+09\n"
     ]
    },
    {
     "name": "stderr",
     "output_type": "stream",
     "text": [
      " This problem is unconstrained.\n"
     ]
    },
    {
     "name": "stdout",
     "output_type": "stream",
     "text": [
      "\n",
      "At iterate   50    f=  1.20682D+07    |proj g|=  3.17836D+08\n",
      "\n",
      "At iterate  100    f=  1.13664D+07    |proj g|=  8.11616D+06\n",
      "\n",
      "At iterate  150    f=  1.12470D+07    |proj g|=  4.37213D+07\n",
      "\n",
      "At iterate  200    f=  1.10800D+07    |proj g|=  9.45985D+06\n",
      "\n",
      "At iterate  250    f=  1.09860D+07    |proj g|=  1.25099D+08\n",
      "\n",
      "At iterate  300    f=  1.05591D+07    |proj g|=  1.99235D+07\n",
      "\n",
      "At iterate  350    f=  1.02944D+07    |proj g|=  2.45572D+07\n",
      "\n",
      "At iterate  400    f=  9.80199D+06    |proj g|=  2.21845D+08\n",
      "\n",
      "At iterate  450    f=  9.09162D+06    |proj g|=  1.32689D+07\n",
      "\n",
      "At iterate  500    f=  8.48161D+06    |proj g|=  7.55583D+07\n",
      "\n",
      "At iterate  550    f=  8.11090D+06    |proj g|=  5.92178D+06\n",
      "\n",
      "At iterate  600    f=  7.71036D+06    |proj g|=  4.23075D+07\n",
      "\n",
      "At iterate  650    f=  7.52293D+06    |proj g|=  2.36452D+07\n",
      "\n",
      "At iterate  700    f=  7.43261D+06    |proj g|=  4.47171D+07\n",
      "\n",
      "At iterate  750    f=  7.38221D+06    |proj g|=  8.42634D+06\n",
      "\n",
      "At iterate  800    f=  7.33900D+06    |proj g|=  4.65457D+06\n",
      "\n",
      "At iterate  850    f=  7.32934D+06    |proj g|=  1.11452D+07\n",
      "\n",
      "At iterate  900    f=  7.31247D+06    |proj g|=  4.36057D+06\n",
      "\n",
      "At iterate  950    f=  7.30689D+06    |proj g|=  9.76749D+05\n",
      "\n",
      "At iterate 1000    f=  7.30546D+06    |proj g|=  8.58074D+05\n",
      "\n",
      "At iterate 1050    f=  7.30436D+06    |proj g|=  3.30200D+06\n",
      "\n",
      "At iterate 1100    f=  7.29490D+06    |proj g|=  7.97713D+06\n",
      "\n",
      "At iterate 1150    f=  7.26820D+06    |proj g|=  5.43365D+06\n",
      "\n",
      "At iterate 1200    f=  7.25373D+06    |proj g|=  1.90621D+07\n",
      "\n",
      "At iterate 1250    f=  7.21057D+06    |proj g|=  5.01820D+06\n",
      "\n",
      "At iterate 1300    f=  7.18995D+06    |proj g|=  4.11522D+06\n",
      "\n",
      "At iterate 1350    f=  7.16089D+06    |proj g|=  4.63848D+06\n",
      "\n",
      "At iterate 1400    f=  7.15630D+06    |proj g|=  6.88960D+06\n",
      "\n",
      "At iterate 1450    f=  7.13484D+06    |proj g|=  1.64262D+06\n",
      "\n",
      "At iterate 1500    f=  7.13139D+06    |proj g|=  3.47373D+06\n",
      "\n",
      "At iterate 1550    f=  7.11751D+06    |proj g|=  2.12848D+06\n",
      "\n",
      "At iterate 1600    f=  7.10628D+06    |proj g|=  2.58381D+06\n",
      "\n",
      "At iterate 1650    f=  7.08968D+06    |proj g|=  2.49298D+06\n",
      "\n",
      "At iterate 1700    f=  7.06725D+06    |proj g|=  8.91808D+06\n",
      "\n",
      "At iterate 1750    f=  7.03931D+06    |proj g|=  8.70088D+05\n",
      "\n",
      "At iterate 1800    f=  7.03279D+06    |proj g|=  1.85190D+06\n",
      "\n",
      "At iterate 1850    f=  7.02950D+06    |proj g|=  2.69008D+06\n",
      "\n",
      "At iterate 1900    f=  7.02425D+06    |proj g|=  1.91555D+06\n",
      "\n",
      "At iterate 1950    f=  7.02095D+06    |proj g|=  1.97635D+06\n",
      "\n",
      "At iterate 2000    f=  7.01982D+06    |proj g|=  1.90011D+06\n",
      "\n",
      "At iterate 2050    f=  7.01904D+06    |proj g|=  5.29151D+05\n",
      "\n",
      "At iterate 2100    f=  7.01823D+06    |proj g|=  2.23497D+06\n",
      "\n",
      "At iterate 2150    f=  7.01734D+06    |proj g|=  3.19535D+05\n",
      "\n",
      "At iterate 2200    f=  7.01627D+06    |proj g|=  1.38837D+06\n",
      "\n",
      "At iterate 2250    f=  7.01567D+06    |proj g|=  8.84011D+05\n",
      "\n",
      "At iterate 2300    f=  7.01541D+06    |proj g|=  1.70246D+06\n",
      "\n",
      "At iterate 2350    f=  7.01475D+06    |proj g|=  2.26845D+06\n",
      "\n",
      "At iterate 2400    f=  7.01366D+06    |proj g|=  2.72054D+05\n",
      "\n",
      "At iterate 2450    f=  7.01235D+06    |proj g|=  1.50797D+06\n",
      "\n",
      "At iterate 2500    f=  7.00974D+06    |proj g|=  1.40678D+06\n",
      "\n",
      "At iterate 2550    f=  7.00702D+06    |proj g|=  9.88874D+05\n",
      "\n",
      "At iterate 2600    f=  7.00617D+06    |proj g|=  6.79564D+05\n",
      "\n",
      "At iterate 2650    f=  7.00421D+06    |proj g|=  2.40647D+06\n",
      "\n",
      "At iterate 2700    f=  7.00318D+06    |proj g|=  4.55989D+05\n",
      "\n",
      "At iterate 2750    f=  7.00212D+06    |proj g|=  2.68564D+06\n",
      "\n",
      "At iterate 2800    f=  6.99911D+06    |proj g|=  2.90445D+05\n",
      "\n",
      "At iterate 2850    f=  6.99853D+06    |proj g|=  7.76386D+05\n",
      "\n",
      "At iterate 2900    f=  6.99703D+06    |proj g|=  2.89048D+06\n",
      "\n",
      "At iterate 2950    f=  6.99437D+06    |proj g|=  4.32200D+06\n",
      "\n",
      "At iterate 3000    f=  6.99209D+06    |proj g|=  3.15283D+05\n",
      "\n",
      "At iterate 3050    f=  6.99189D+06    |proj g|=  3.15942D+05\n",
      "\n",
      "At iterate 3100    f=  6.99116D+06    |proj g|=  1.31541D+06\n",
      "\n",
      "At iterate 3150    f=  6.99096D+06    |proj g|=  1.15370D+06\n",
      "\n",
      "At iterate 3200    f=  6.99085D+06    |proj g|=  4.81595D+05\n",
      "\n",
      "At iterate 3250    f=  6.99046D+06    |proj g|=  2.71358D+06\n",
      "\n",
      "At iterate 3300    f=  6.98945D+06    |proj g|=  2.82349D+05\n",
      "\n",
      "At iterate 3350    f=  6.98866D+06    |proj g|=  2.09952D+06\n",
      "\n",
      "At iterate 3400    f=  6.98841D+06    |proj g|=  2.42656D+05\n",
      "\n",
      "           * * *\n",
      "\n",
      "Tit   = total number of iterations\n",
      "Tnf   = total number of function evaluations\n",
      "Tnint = total number of segments explored during Cauchy searches\n",
      "Skip  = number of BFGS updates skipped\n",
      "Nact  = number of active bounds at final generalized Cauchy point\n",
      "Projg = norm of the final projected gradient\n",
      "F     = final function value\n",
      "\n",
      "           * * *\n",
      "\n",
      "   N    Tit     Tnf  Tnint  Skip  Nact     Projg        F\n",
      "   19   3425   3955      1     0     0   2.847D+04   6.988D+06\n",
      "  F =   6988384.9401444532     \n",
      "\n",
      "CONVERGENCE: REL_REDUCTION_OF_F_<=_FACTR*EPSMCH             \n",
      "Model saved to 'logreg_model_original.pkl'\n"
     ]
    },
    {
     "name": "stderr",
     "output_type": "stream",
     "text": [
      "[Parallel(n_jobs=1)]: Done   1 out of   1 | elapsed: 57.7min finished\n"
     ]
    },
    {
     "name": "stdout",
     "output_type": "stream",
     "text": [
      "Accuracy: 93.38%\n"
     ]
    }
   ],
   "source": [
    "# Create the Logistic Regression model\n",
    "logreg_model = LogisticRegression(max_iter=20000, verbose=1)  # max_iter to ensure convergence for complex data\n",
    "\n",
    "# Train the model\n",
    "logreg_model.fit(X_train, y_train.values.ravel())  # Flatten y_train if it's a DataFrame\n",
    "\n",
    "# Save the trained model to a file\n",
    "joblib.dump(logreg_model, 'logreg_model_original.pkl')\n",
    "print(\"Model saved to 'logreg_model_original.pkl'\")\n",
    "\n",
    "# Make predictions on the test set\n",
    "y_pred = logreg_model.predict(X_test)\n",
    "\n",
    "# Evaluate the accuracy of the model\n",
    "accuracy = accuracy_score(y_test, y_pred)\n",
    "print(f'Accuracy: {accuracy * 100:.2f}%')"
   ]
  },
  {
   "cell_type": "code",
   "execution_count": 4,
   "id": "351fd8a0",
   "metadata": {},
   "outputs": [
    {
     "data": {
      "image/png": "[encoded data removed]",
      "text/plain": [
       "<Figure size 640x480 with 2 Axes>"
      ]
     },
     "metadata": {},
     "output_type": "display_data"
    }
   ],
   "source": [
    "# Generate confusion matrix\n",
    "cm = confusion_matrix(y_test, y_pred)\n",
    "\n",
    "# Display confusion matrix\n",
    "disp = ConfusionMatrixDisplay(confusion_matrix=cm, display_labels=logreg_model.classes_)\n",
    "disp.plot(cmap=plt.cm.Blues)  # You can change the colormap to something else if you like\n",
    "plt.show()\n"
   ]
  },
  {
   "cell_type": "code",
   "execution_count": null,
   "id": "d6e3d107",
   "metadata": {},
   "outputs": [],
   "source": [
    "#--------------ONLY FOR LOADING MODEL DO NOT RUN------------------------#\n",
    "# Load the saved model from the file\n",
    "loaded_model = joblib.load('logreg_model_original.pkl')\n",
    "\n",
    "# Make predictions with the loaded model\n",
    "loaded_model_predictions = loaded_model.predict(X_test)\n",
    "loaded_model_accuracy = accuracy_score(y_test, loaded_model_predictions)\n",
    "print(f'Loaded model accuracy: {loaded_model_accuracy * 100:.2f}%')"
   ]
  },
  {
   "cell_type": "code",
   "execution_count": null,
   "id": "312bce5c",
   "metadata": {},
   "outputs": [],
   "source": []
  }
 ],
 "metadata": {
  "kernelspec": {
   "display_name": "Python 3 (ipykernel)",
   "language": "python",
   "name": "python3"
  },
  "language_info": {
   "codemirror_mode": {
    "name": "ipython",
    "version": 3
   },
   "file_extension": ".py",
   "mimetype": "text/x-python",
   "name": "python",
   "nbconvert_exporter": "python",
   "pygments_lexer": "ipython3",
   "version": "3.10.13"
  }
 },
 "nbformat": 4,
 "nbformat_minor": 5
}
