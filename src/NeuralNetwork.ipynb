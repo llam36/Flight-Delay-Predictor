{
 "cells": [
  {
   "cell_type": "markdown",
   "id": "17e50281",
   "metadata": {},
   "source": [
    "# Neural Network (MLP Classifier)"
   ]
  },
  {
   "cell_type": "code",
   "execution_count": 1,
   "id": "ff6f746e",
   "metadata": {},
   "outputs": [
    {
     "name": "stdout",
     "output_type": "stream",
     "text": [
      "Defaulting to user installation because normal site-packages is not writeable\n",
      "\u001b[33mWARNING: Ignoring invalid distribution -vidia-nvjitlink-cu12 (/home/hice1/abahar6/.local/lib/python3.10/site-packages)\u001b[0m\u001b[33m\n",
      "\u001b[0m\u001b[33mWARNING: Ignoring invalid distribution -vidia-cusparse-cu12 (/home/hice1/abahar6/.local/lib/python3.10/site-packages)\u001b[0m\u001b[33m\n",
      "\u001b[0m\u001b[33mWARNING: Ignoring invalid distribution -rotobuf (/home/hice1/abahar6/.local/lib/python3.10/site-packages)\u001b[0m\u001b[33m\n",
      "\u001b[0m\u001b[33mWARNING: Ignoring invalid distribution -vidia-nvjitlink-cu12 (/home/hice1/abahar6/.local/lib/python3.10/site-packages)\u001b[0m\u001b[33m\n",
      "\u001b[0m\u001b[33mWARNING: Ignoring invalid distribution -vidia-cusparse-cu12 (/home/hice1/abahar6/.local/lib/python3.10/site-packages)\u001b[0m\u001b[33m\n",
      "\u001b[0m\u001b[33mWARNING: Ignoring invalid distribution -rotobuf (/home/hice1/abahar6/.local/lib/python3.10/site-packages)\u001b[0m\u001b[33m\n",
      "\u001b[0mRequirement already satisfied: numpy==1.24.3 in /storage/pace-apps/manual/packages/anaconda3/2023.03/lib/python3.10/site-packages (1.24.3)\n",
      "\u001b[33mWARNING: Ignoring invalid distribution -vidia-nvjitlink-cu12 (/home/hice1/abahar6/.local/lib/python3.10/site-packages)\u001b[0m\u001b[33m\n",
      "\u001b[0m\u001b[33mWARNING: Ignoring invalid distribution -vidia-cusparse-cu12 (/home/hice1/abahar6/.local/lib/python3.10/site-packages)\u001b[0m\u001b[33m\n",
      "\u001b[0m\u001b[33mWARNING: Ignoring invalid distribution -rotobuf (/home/hice1/abahar6/.local/lib/python3.10/site-packages)\u001b[0m\u001b[33m\n",
      "\u001b[0m\u001b[33mWARNING: Ignoring invalid distribution -vidia-nvjitlink-cu12 (/home/hice1/abahar6/.local/lib/python3.10/site-packages)\u001b[0m\u001b[33m\n",
      "\u001b[0m\u001b[33mWARNING: Ignoring invalid distribution -vidia-cusparse-cu12 (/home/hice1/abahar6/.local/lib/python3.10/site-packages)\u001b[0m\u001b[33m\n",
      "\u001b[0m\u001b[33mWARNING: Ignoring invalid distribution -rotobuf (/home/hice1/abahar6/.local/lib/python3.10/site-packages)\u001b[0m\u001b[33m\n",
      "\u001b[0m\u001b[33mWARNING: Ignoring invalid distribution -vidia-nvjitlink-cu12 (/home/hice1/abahar6/.local/lib/python3.10/site-packages)\u001b[0m\u001b[33m\n",
      "\u001b[0m\u001b[33mWARNING: Ignoring invalid distribution -vidia-cusparse-cu12 (/home/hice1/abahar6/.local/lib/python3.10/site-packages)\u001b[0m\u001b[33m\n",
      "\u001b[0m\u001b[33mWARNING: Ignoring invalid distribution -rotobuf (/home/hice1/abahar6/.local/lib/python3.10/site-packages)\u001b[0m\u001b[33m\n",
      "\u001b[0m\u001b[33mWARNING: Ignoring invalid distribution -vidia-nvjitlink-cu12 (/home/hice1/abahar6/.local/lib/python3.10/site-packages)\u001b[0m\u001b[33m\n",
      "\u001b[0m\u001b[33mWARNING: Ignoring invalid distribution -vidia-cusparse-cu12 (/home/hice1/abahar6/.local/lib/python3.10/site-packages)\u001b[0m\u001b[33m\n",
      "\u001b[0m\u001b[33mWARNING: Ignoring invalid distribution -rotobuf (/home/hice1/abahar6/.local/lib/python3.10/site-packages)\u001b[0m\u001b[33m\n",
      "\u001b[0mDefaulting to user installation because normal site-packages is not writeable\n",
      "\u001b[33mWARNING: Ignoring invalid distribution -vidia-nvjitlink-cu12 (/home/hice1/abahar6/.local/lib/python3.10/site-packages)\u001b[0m\u001b[33m\n",
      "\u001b[0m\u001b[33mWARNING: Ignoring invalid distribution -vidia-cusparse-cu12 (/home/hice1/abahar6/.local/lib/python3.10/site-packages)\u001b[0m\u001b[33m\n",
      "\u001b[0m\u001b[33mWARNING: Ignoring invalid distribution -rotobuf (/home/hice1/abahar6/.local/lib/python3.10/site-packages)\u001b[0m\u001b[33m\n",
      "\u001b[0m\u001b[33mWARNING: Ignoring invalid distribution -vidia-nvjitlink-cu12 (/home/hice1/abahar6/.local/lib/python3.10/site-packages)\u001b[0m\u001b[33m\n",
      "\u001b[0m\u001b[33mWARNING: Ignoring invalid distribution -vidia-cusparse-cu12 (/home/hice1/abahar6/.local/lib/python3.10/site-packages)\u001b[0m\u001b[33m\n",
      "\u001b[0m\u001b[33mWARNING: Ignoring invalid distribution -rotobuf (/home/hice1/abahar6/.local/lib/python3.10/site-packages)\u001b[0m\u001b[33m\n",
      "\u001b[0mRequirement already satisfied: tensorflow[and-cuda]==2.17.0 in /home/hice1/abahar6/.local/lib/python3.10/site-packages (2.17.0)\n",
      "Requirement already satisfied: numpy<2.0.0,>=1.23.5 in /storage/pace-apps/manual/packages/anaconda3/2023.03/lib/python3.10/site-packages (from tensorflow[and-cuda]==2.17.0) (1.24.3)\n",
      "Requirement already satisfied: opt-einsum>=2.3.2 in /home/hice1/abahar6/.local/lib/python3.10/site-packages (from tensorflow[and-cuda]==2.17.0) (3.4.0)\n",
      "Requirement already satisfied: requests<3,>=2.21.0 in /storage/pace-apps/manual/packages/anaconda3/2023.03/lib/python3.10/site-packages (from tensorflow[and-cuda]==2.17.0) (2.29.0)\n",
      "Requirement already satisfied: absl-py>=1.0.0 in /home/hice1/abahar6/.local/lib/python3.10/site-packages (from tensorflow[and-cuda]==2.17.0) (2.1.0)\n",
      "Requirement already satisfied: six>=1.12.0 in /storage/pace-apps/manual/packages/anaconda3/2023.03/lib/python3.10/site-packages (from tensorflow[and-cuda]==2.17.0) (1.16.0)\n",
      "Requirement already satisfied: tensorboard<2.18,>=2.17 in /home/hice1/abahar6/.local/lib/python3.10/site-packages (from tensorflow[and-cuda]==2.17.0) (2.17.1)\n",
      "Requirement already satisfied: astunparse>=1.6.0 in /home/hice1/abahar6/.local/lib/python3.10/site-packages (from tensorflow[and-cuda]==2.17.0) (1.6.3)\n",
      "Requirement already satisfied: protobuf!=4.21.0,!=4.21.1,!=4.21.2,!=4.21.3,!=4.21.4,!=4.21.5,<5.0.0dev,>=3.20.3 in /home/hice1/abahar6/.local/lib/python3.10/site-packages (from tensorflow[and-cuda]==2.17.0) (4.25.5)\n",
      "Requirement already satisfied: grpcio<2.0,>=1.24.3 in /home/hice1/abahar6/.local/lib/python3.10/site-packages (from tensorflow[and-cuda]==2.17.0) (1.68.0)\n",
      "Requirement already satisfied: termcolor>=1.1.0 in /home/hice1/abahar6/.local/lib/python3.10/site-packages (from tensorflow[and-cuda]==2.17.0) (2.5.0)\n",
      "Requirement already satisfied: packaging in /storage/pace-apps/manual/packages/anaconda3/2023.03/lib/python3.10/site-packages (from tensorflow[and-cuda]==2.17.0) (23.0)\n",
      "Requirement already satisfied: google-pasta>=0.1.1 in /home/hice1/abahar6/.local/lib/python3.10/site-packages (from tensorflow[and-cuda]==2.17.0) (0.2.0)\n",
      "Requirement already satisfied: wrapt>=1.11.0 in /home/hice1/abahar6/.local/lib/python3.10/site-packages (from tensorflow[and-cuda]==2.17.0) (1.17.0)\n",
      "Requirement already satisfied: flatbuffers>=24.3.25 in /home/hice1/abahar6/.local/lib/python3.10/site-packages (from tensorflow[and-cuda]==2.17.0) (24.3.25)\n",
      "Requirement already satisfied: gast!=0.5.0,!=0.5.1,!=0.5.2,>=0.2.1 in /home/hice1/abahar6/.local/lib/python3.10/site-packages (from tensorflow[and-cuda]==2.17.0) (0.6.0)\n",
      "Requirement already satisfied: typing-extensions>=3.6.6 in /home/hice1/abahar6/.local/lib/python3.10/site-packages (from tensorflow[and-cuda]==2.17.0) (4.12.2)\n",
      "Requirement already satisfied: tensorflow-io-gcs-filesystem>=0.23.1 in /home/hice1/abahar6/.local/lib/python3.10/site-packages (from tensorflow[and-cuda]==2.17.0) (0.37.1)\n",
      "Requirement already satisfied: libclang>=13.0.0 in /home/hice1/abahar6/.local/lib/python3.10/site-packages (from tensorflow[and-cuda]==2.17.0) (18.1.1)\n",
      "Requirement already satisfied: keras>=3.2.0 in /home/hice1/abahar6/.local/lib/python3.10/site-packages (from tensorflow[and-cuda]==2.17.0) (3.7.0)\n",
      "Requirement already satisfied: setuptools in /storage/pace-apps/manual/packages/anaconda3/2023.03/lib/python3.10/site-packages (from tensorflow[and-cuda]==2.17.0) (65.6.3)\n",
      "Requirement already satisfied: ml-dtypes<0.5.0,>=0.3.1 in /home/hice1/abahar6/.local/lib/python3.10/site-packages (from tensorflow[and-cuda]==2.17.0) (0.4.1)\n",
      "Requirement already satisfied: h5py>=3.10.0 in /home/hice1/abahar6/.local/lib/python3.10/site-packages (from tensorflow[and-cuda]==2.17.0) (3.12.1)\n",
      "Requirement already satisfied: nvidia-nvjitlink-cu12==12.3.101 in /home/hice1/abahar6/.local/lib/python3.10/site-packages (from tensorflow[and-cuda]==2.17.0) (12.3.101)\n",
      "Requirement already satisfied: nvidia-cusparse-cu12==12.2.0.103 in /home/hice1/abahar6/.local/lib/python3.10/site-packages (from tensorflow[and-cuda]==2.17.0) (12.2.0.103)\n",
      "Requirement already satisfied: nvidia-cusolver-cu12==11.5.4.101 in /home/hice1/abahar6/.local/lib/python3.10/site-packages (from tensorflow[and-cuda]==2.17.0) (11.5.4.101)\n",
      "Requirement already satisfied: nvidia-cublas-cu12==12.3.4.1 in /home/hice1/abahar6/.local/lib/python3.10/site-packages (from tensorflow[and-cuda]==2.17.0) (12.3.4.1)\n",
      "Requirement already satisfied: nvidia-nccl-cu12==2.19.3 in /home/hice1/abahar6/.local/lib/python3.10/site-packages (from tensorflow[and-cuda]==2.17.0) (2.19.3)\n",
      "Requirement already satisfied: nvidia-cuda-nvrtc-cu12==12.3.107 in /home/hice1/abahar6/.local/lib/python3.10/site-packages (from tensorflow[and-cuda]==2.17.0) (12.3.107)\n",
      "Requirement already satisfied: nvidia-cuda-runtime-cu12==12.3.101 in /home/hice1/abahar6/.local/lib/python3.10/site-packages (from tensorflow[and-cuda]==2.17.0) (12.3.101)\n",
      "Requirement already satisfied: nvidia-cuda-cupti-cu12==12.3.101 in /home/hice1/abahar6/.local/lib/python3.10/site-packages (from tensorflow[and-cuda]==2.17.0) (12.3.101)\n",
      "Requirement already satisfied: nvidia-cudnn-cu12==8.9.7.29 in /home/hice1/abahar6/.local/lib/python3.10/site-packages (from tensorflow[and-cuda]==2.17.0) (8.9.7.29)\n",
      "Requirement already satisfied: nvidia-cufft-cu12==11.0.12.1 in /home/hice1/abahar6/.local/lib/python3.10/site-packages (from tensorflow[and-cuda]==2.17.0) (11.0.12.1)\n",
      "Requirement already satisfied: nvidia-cuda-nvcc-cu12==12.3.107 in /home/hice1/abahar6/.local/lib/python3.10/site-packages (from tensorflow[and-cuda]==2.17.0) (12.3.107)\n",
      "Requirement already satisfied: nvidia-curand-cu12==10.3.4.107 in /home/hice1/abahar6/.local/lib/python3.10/site-packages (from tensorflow[and-cuda]==2.17.0) (10.3.4.107)\n"
     ]
    },
    {
     "name": "stdout",
     "output_type": "stream",
     "text": [
      "Requirement already satisfied: wheel<1.0,>=0.23.0 in /storage/pace-apps/manual/packages/anaconda3/2023.03/lib/python3.10/site-packages (from astunparse>=1.6.0->tensorflow[and-cuda]==2.17.0) (0.38.4)\n",
      "Requirement already satisfied: optree in /home/hice1/abahar6/.local/lib/python3.10/site-packages (from keras>=3.2.0->tensorflow[and-cuda]==2.17.0) (0.13.1)\n",
      "Requirement already satisfied: rich in /home/hice1/abahar6/.local/lib/python3.10/site-packages (from keras>=3.2.0->tensorflow[and-cuda]==2.17.0) (13.9.4)\n",
      "Requirement already satisfied: namex in /home/hice1/abahar6/.local/lib/python3.10/site-packages (from keras>=3.2.0->tensorflow[and-cuda]==2.17.0) (0.0.8)\n",
      "Requirement already satisfied: idna<4,>=2.5 in /storage/pace-apps/manual/packages/anaconda3/2023.03/lib/python3.10/site-packages (from requests<3,>=2.21.0->tensorflow[and-cuda]==2.17.0) (3.4)\n",
      "Requirement already satisfied: charset-normalizer<4,>=2 in /storage/pace-apps/manual/packages/anaconda3/2023.03/lib/python3.10/site-packages (from requests<3,>=2.21.0->tensorflow[and-cuda]==2.17.0) (2.0.4)\n",
      "Requirement already satisfied: certifi>=2017.4.17 in /storage/pace-apps/manual/packages/anaconda3/2023.03/lib/python3.10/site-packages (from requests<3,>=2.21.0->tensorflow[and-cuda]==2.17.0) (2024.2.2)\n",
      "Requirement already satisfied: urllib3<1.27,>=1.21.1 in /storage/pace-apps/manual/packages/anaconda3/2023.03/lib/python3.10/site-packages (from requests<3,>=2.21.0->tensorflow[and-cuda]==2.17.0) (1.26.15)\n",
      "Requirement already satisfied: markdown>=2.6.8 in /home/hice1/abahar6/.local/lib/python3.10/site-packages (from tensorboard<2.18,>=2.17->tensorflow[and-cuda]==2.17.0) (3.7)\n",
      "Requirement already satisfied: tensorboard-data-server<0.8.0,>=0.7.0 in /home/hice1/abahar6/.local/lib/python3.10/site-packages (from tensorboard<2.18,>=2.17->tensorflow[and-cuda]==2.17.0) (0.7.2)\n",
      "Requirement already satisfied: werkzeug>=1.0.1 in /home/hice1/abahar6/.local/lib/python3.10/site-packages (from tensorboard<2.18,>=2.17->tensorflow[and-cuda]==2.17.0) (3.1.3)\n",
      "Requirement already satisfied: MarkupSafe>=2.1.1 in /storage/pace-apps/manual/packages/anaconda3/2023.03/lib/python3.10/site-packages (from werkzeug>=1.0.1->tensorboard<2.18,>=2.17->tensorflow[and-cuda]==2.17.0) (2.1.1)\n",
      "Requirement already satisfied: pygments<3.0.0,>=2.13.0 in /storage/pace-apps/manual/packages/anaconda3/2023.03/lib/python3.10/site-packages (from rich->keras>=3.2.0->tensorflow[and-cuda]==2.17.0) (2.15.1)\n",
      "Requirement already satisfied: markdown-it-py>=2.2.0 in /home/hice1/abahar6/.local/lib/python3.10/site-packages (from rich->keras>=3.2.0->tensorflow[and-cuda]==2.17.0) (3.0.0)\n",
      "Requirement already satisfied: mdurl~=0.1 in /home/hice1/abahar6/.local/lib/python3.10/site-packages (from markdown-it-py>=2.2.0->rich->keras>=3.2.0->tensorflow[and-cuda]==2.17.0) (0.1.2)\n",
      "\u001b[33mWARNING: Ignoring invalid distribution -vidia-nvjitlink-cu12 (/home/hice1/abahar6/.local/lib/python3.10/site-packages)\u001b[0m\u001b[33m\n",
      "\u001b[0m\u001b[33mWARNING: Ignoring invalid distribution -vidia-cusparse-cu12 (/home/hice1/abahar6/.local/lib/python3.10/site-packages)\u001b[0m\u001b[33m\n",
      "\u001b[0m\u001b[33mWARNING: Ignoring invalid distribution -rotobuf (/home/hice1/abahar6/.local/lib/python3.10/site-packages)\u001b[0m\u001b[33m\n",
      "\u001b[0m\u001b[33mWARNING: Ignoring invalid distribution -vidia-nvjitlink-cu12 (/home/hice1/abahar6/.local/lib/python3.10/site-packages)\u001b[0m\u001b[33m\n",
      "\u001b[0m\u001b[33mWARNING: Ignoring invalid distribution -vidia-cusparse-cu12 (/home/hice1/abahar6/.local/lib/python3.10/site-packages)\u001b[0m\u001b[33m\n",
      "\u001b[0m\u001b[33mWARNING: Ignoring invalid distribution -rotobuf (/home/hice1/abahar6/.local/lib/python3.10/site-packages)\u001b[0m\u001b[33m\n",
      "\u001b[0m\u001b[33mWARNING: Ignoring invalid distribution -vidia-nvjitlink-cu12 (/home/hice1/abahar6/.local/lib/python3.10/site-packages)\u001b[0m\u001b[33m\n",
      "\u001b[0m\u001b[33mWARNING: Ignoring invalid distribution -vidia-cusparse-cu12 (/home/hice1/abahar6/.local/lib/python3.10/site-packages)\u001b[0m\u001b[33m\n",
      "\u001b[0m\u001b[33mWARNING: Ignoring invalid distribution -rotobuf (/home/hice1/abahar6/.local/lib/python3.10/site-packages)\u001b[0m\u001b[33m\n",
      "\u001b[0m\u001b[33mWARNING: Ignoring invalid distribution -vidia-nvjitlink-cu12 (/home/hice1/abahar6/.local/lib/python3.10/site-packages)\u001b[0m\u001b[33m\n",
      "\u001b[0m\u001b[33mWARNING: Ignoring invalid distribution -vidia-cusparse-cu12 (/home/hice1/abahar6/.local/lib/python3.10/site-packages)\u001b[0m\u001b[33m\n",
      "\u001b[0m\u001b[33mWARNING: Ignoring invalid distribution -rotobuf (/home/hice1/abahar6/.local/lib/python3.10/site-packages)\u001b[0m\u001b[33m\n",
      "\u001b[0m"
     ]
    },
    {
     "name": "stderr",
     "output_type": "stream",
     "text": [
      "2024-11-27 22:21:25.487228: I tensorflow/core/util/port.cc:153] oneDNN custom operations are on. You may see slightly different numerical results due to floating-point round-off errors from different computation orders. To turn them off, set the environment variable `TF_ENABLE_ONEDNN_OPTS=0`.\n",
      "2024-11-27 22:21:26.274618: E external/local_xla/xla/stream_executor/cuda/cuda_fft.cc:485] Unable to register cuFFT factory: Attempting to register factory for plugin cuFFT when one has already been registered\n",
      "2024-11-27 22:21:26.556393: E external/local_xla/xla/stream_executor/cuda/cuda_dnn.cc:8454] Unable to register cuDNN factory: Attempting to register factory for plugin cuDNN when one has already been registered\n",
      "2024-11-27 22:21:26.631871: E external/local_xla/xla/stream_executor/cuda/cuda_blas.cc:1452] Unable to register cuBLAS factory: Attempting to register factory for plugin cuBLAS when one has already been registered\n",
      "2024-11-27 22:21:27.209700: I tensorflow/core/platform/cpu_feature_guard.cc:210] This TensorFlow binary is optimized to use available CPU instructions in performance-critical operations.\n",
      "To enable the following instructions: AVX2 AVX512F AVX512_VNNI FMA, in other operations, rebuild TensorFlow with the appropriate compiler flags.\n",
      "2024-11-27 22:21:31.002030: W tensorflow/compiler/tf2tensorrt/utils/py_utils.cc:38] TF-TRT Warning: Could not find TensorRT\n"
     ]
    },
    {
     "name": "stdout",
     "output_type": "stream",
     "text": [
      "NumPy version: 1.24.3\n",
      "TF version: 2.17.0\n"
     ]
    }
   ],
   "source": [
    "# Restart then execute\n",
    "#!pip3 uninstall tensorflow -y\n",
    "#!pip3 uninstall numpy -y\n",
    "!pip3 install numpy==1.24.3\n",
    "!pip3 install tensorflow[and-cuda]==2.17.0\n",
    "\n",
    "import numpy as np\n",
    "import pandas as pd\n",
    "from sklearn.model_selection import train_test_split\n",
    "from sklearn.preprocessing import StandardScaler\n",
    "from tensorflow.keras.models import Sequential\n",
    "from tensorflow.keras.layers import Dense\n",
    "from tensorflow.keras.optimizers import Adam\n",
    "from tensorflow.keras.losses import BinaryCrossentropy\n",
    "from sklearn.metrics import classification_report\n",
    "import tensorflow as tf\n",
    "\n",
    "print(\"NumPy version:\", np.__version__)\n",
    "print(\"TF version:\", tf.__version__)"
   ]
  },
  {
   "cell_type": "code",
   "execution_count": 2,
   "id": "68ca7f2b",
   "metadata": {},
   "outputs": [
    {
     "name": "stdout",
     "output_type": "stream",
     "text": [
      "GPUs available: ['/physical_device:GPU:0']\n",
      "3b:00.0 3D controller: NVIDIA Corporation GV100GL [Tesla V100 PCIe 16GB] (rev a1)\n",
      "af:00.0 3D controller: NVIDIA Corporation GV100GL [Tesla V100 PCIe 16GB] (rev a1)\n",
      "Wed Nov 27 22:21:37 2024       \n",
      "+-----------------------------------------------------------------------------------------+\n",
      "| NVIDIA-SMI 555.42.02              Driver Version: 555.42.02      CUDA Version: 12.5     |\n",
      "|-----------------------------------------+------------------------+----------------------+\n",
      "| GPU  Name                 Persistence-M | Bus-Id          Disp.A | Volatile Uncorr. ECC |\n",
      "| Fan  Temp   Perf          Pwr:Usage/Cap |           Memory-Usage | GPU-Util  Compute M. |\n",
      "|                                         |                        |               MIG M. |\n",
      "|=========================================+========================+======================|\n",
      "|   0  Tesla V100-PCIE-16GB           On  |   00000000:3B:00.0 Off |                    0 |\n",
      "| N/A   37C    P0             24W /  250W |       4MiB /  16384MiB |      0%      Default |\n",
      "|                                         |                        |                  N/A |\n",
      "+-----------------------------------------+------------------------+----------------------+\n",
      "                                                                                         \n",
      "+-----------------------------------------------------------------------------------------+\n",
      "| Processes:                                                                              |\n",
      "|  GPU   GI   CI        PID   Type   Process name                              GPU Memory |\n",
      "|        ID   ID                                                               Usage      |\n",
      "|=========================================================================================|\n",
      "|  No running processes found                                                             |\n",
      "+-----------------------------------------------------------------------------------------+\n",
      "2.17.0\n",
      "CUDA version TensorFlow is built for: 12.3\n",
      "cuDNN version TensorFlow is built for: 8\n",
      "OrderedDict([('cpu_compiler', '/usr/lib/llvm-17/bin/clang'), ('cuda_compute_capabilities', ['sm_60', 'sm_70', 'sm_80', 'sm_89', 'compute_90']), ('cuda_version', '12.3'), ('cudnn_version', '8'), ('is_cuda_build', True), ('is_rocm_build', False), ('is_tensorrt_build', True)])\n"
     ]
    }
   ],
   "source": [
    "gpus = tf.config.list_physical_devices('GPU')\n",
    "if gpus:\n",
    "    print(f\"GPUs available: {[gpu.name for gpu in gpus]}\")\n",
    "else:\n",
    "    print(\"No GPU available.\")\n",
    "!lspci | grep -i nvidia\n",
    "!nvidia-smi\n",
    "!ldconfig -p | grep libcudnn\n",
    "\n",
    "print(tf.__version__)\n",
    "# Check the CUDA version TensorFlow was built against\n",
    "cuda_version = tf.sysconfig.get_build_info()[\"cuda_version\"]\n",
    "print(f\"CUDA version TensorFlow is built for: {cuda_version}\")\n",
    "\n",
    "# Check the cuDNN version TensorFlow was built against\n",
    "cudnn_version = tf.sysconfig.get_build_info()[\"cudnn_version\"]\n",
    "print(f\"cuDNN version TensorFlow is built for: {cudnn_version}\")\n",
    "print(tf.sysconfig.get_build_info())\n"
   ]
  },
  {
   "cell_type": "code",
   "execution_count": 3,
   "id": "6556bf27",
   "metadata": {},
   "outputs": [],
   "source": [
    "X_train = pd.read_csv('./preprocessed/X_train_res.csv')\n",
    "y_train = pd.read_csv('./preprocessed/y_train_res.csv').values.ravel()\n",
    "X_test = pd.read_csv('./preprocessed/X_test.csv')\n",
    "y_test = pd.read_csv('./preprocessed/y_test.csv').values.ravel()"
   ]
  },
  {
   "cell_type": "code",
   "execution_count": 4,
   "id": "09bf135a",
   "metadata": {},
   "outputs": [
    {
     "name": "stdout",
     "output_type": "stream",
     "text": [
      "Classes and their encoded values:\n",
      "0: 0\n",
      "1: 1\n"
     ]
    }
   ],
   "source": [
    "from sklearn.preprocessing import LabelEncoder\n",
    "\n",
    "label_encoder = LabelEncoder()\n",
    "y_train = label_encoder.fit_transform(y_train)\n",
    "y_test = label_encoder.transform(y_test)\n",
    "\n",
    "print(\"Classes and their encoded values:\")\n",
    "for index, label in enumerate(label_encoder.classes_):\n",
    "    print(f\"{label}: {index}\")"
   ]
  },
  {
   "cell_type": "code",
   "execution_count": 4,
   "id": "fcf36aee",
   "metadata": {},
   "outputs": [
    {
     "name": "stderr",
     "output_type": "stream",
     "text": [
      "2024-11-27 14:13:30.029704: I tensorflow/core/common_runtime/gpu/gpu_device.cc:2021] Created device /job:localhost/replica:0/task:0/device:GPU:0 with 43526 MB memory:  -> device: 0, name: NVIDIA L40S, pci bus id: 0000:1b:00.0, compute capability: 8.9\n"
     ]
    }
   ],
   "source": [
    "from tensorflow.keras.layers import Dense, Dropout, BatchNormalization\n",
    "from tensorflow.keras import Input\n",
    "from tensorflow.keras.callbacks import EarlyStopping\n",
    "import joblib\n",
    "\n",
    "scaler = StandardScaler()\n",
    "X_train_scaled = scaler.fit_transform(X_train)\n",
    "X_test_scaled = scaler.transform(X_test)\n",
    "\n",
    "early_stopping = EarlyStopping(\n",
    "    monitor='val_loss', \n",
    "    patience=3,  # Stop after 3 epochs without improvement\n",
    "    restore_best_weights=True\n",
    ")\n",
    "    \n",
    "model = Sequential([\n",
    "    Input(shape=(X_train_scaled.shape[1],)),\n",
    "    Dense(64, activation='relu'),\n",
    "    Dense(32, activation='relu'),\n",
    "    Dense(1, activation='sigmoid')  # For binary classification (delayed or not)\n",
    "])"
   ]
  },
  {
   "cell_type": "code",
   "execution_count": 5,
   "id": "c99cdd70",
   "metadata": {},
   "outputs": [],
   "source": [
    "model.compile(loss='binary_crossentropy', optimizer='adam', metrics=['accuracy', 'Precision', 'Recall'])"
   ]
  },
  {
   "cell_type": "code",
   "execution_count": 7,
   "id": "18af66ab",
   "metadata": {},
   "outputs": [
    {
     "name": "stdout",
     "output_type": "stream",
     "text": [
      "Epoch 1/5\n"
     ]
    },
    {
     "name": "stderr",
     "output_type": "stream",
     "text": [
      "WARNING: All log messages before absl::InitializeLog() is called are written to STDERR\n",
      "I0000 00:00:1732721259.517285 1227601 service.cc:146] XLA service 0x1551d4017630 initialized for platform CUDA (this does not guarantee that XLA will be used). Devices:\n",
      "I0000 00:00:1732721259.517317 1227601 service.cc:154]   StreamExecutor device (0): NVIDIA L40S, Compute Capability 8.9\n",
      "2024-11-27 10:27:39.550165: I tensorflow/compiler/mlir/tensorflow/utils/dump_mlir_util.cc:268] disabling MLIR crash reproducer, set env var `MLIR_CRASH_REPRODUCER_DIRECTORY` to enable.\n",
      "2024-11-27 10:27:39.707190: I external/local_xla/xla/stream_executor/cuda/cuda_dnn.cc:531] Loaded cuDNN version 8907\n"
     ]
    },
    {
     "name": "stdout",
     "output_type": "stream",
     "text": [
      "\u001b[1m    118/1096170\u001b[0m \u001b[37m━━━━━━━━━━━━━━━━━━━━\u001b[0m \u001b[1m23:44\u001b[0m 1ms/step - Precision: 0.6999 - Recall: 0.7606 - accuracy: 0.6985 - loss: 0.5588"
     ]
    },
    {
     "name": "stderr",
     "output_type": "stream",
     "text": [
      "I0000 00:00:1732721260.854917 1227601 device_compiler.h:188] Compiled cluster using XLA!  This line is logged at most once for the lifetime of the process.\n"
     ]
    },
    {
     "name": "stdout",
     "output_type": "stream",
     "text": [
      "\u001b[1m1096170/1096170\u001b[0m \u001b[32m━━━━━━━━━━━━━━━━━━━━\u001b[0m\u001b[37m\u001b[0m \u001b[1m1380s\u001b[0m 1ms/step - Precision: 0.9837 - Recall: 0.9863 - accuracy: 0.9858 - loss: 0.0387\n",
      "Epoch 2/5\n"
     ]
    },
    {
     "name": "stderr",
     "output_type": "stream",
     "text": [
      "/home/hice1/abahar6/.local/lib/python3.10/site-packages/keras/src/callbacks/early_stopping.py:153: UserWarning: Early stopping conditioned on metric `val_loss` which is not available. Available metrics are: Precision,Recall,accuracy,loss\n",
      "  current = self.get_monitor_value(logs)\n"
     ]
    },
    {
     "name": "stdout",
     "output_type": "stream",
     "text": [
      "\u001b[1m1096170/1096170\u001b[0m \u001b[32m━━━━━━━━━━━━━━━━━━━━\u001b[0m\u001b[37m\u001b[0m \u001b[1m1362s\u001b[0m 1ms/step - Precision: 0.9915 - Recall: 0.9960 - accuracy: 0.9944 - loss: 0.0160\n",
      "Epoch 3/5\n",
      "\u001b[1m1096170/1096170\u001b[0m \u001b[32m━━━━━━━━━━━━━━━━━━━━\u001b[0m\u001b[37m\u001b[0m \u001b[1m1351s\u001b[0m 1ms/step - Precision: 0.9931 - Recall: 0.9967 - accuracy: 0.9955 - loss: 0.0132\n",
      "Epoch 4/5\n",
      "\u001b[1m1096170/1096170\u001b[0m \u001b[32m━━━━━━━━━━━━━━━━━━━━\u001b[0m\u001b[37m\u001b[0m \u001b[1m1346s\u001b[0m 1ms/step - Precision: 0.9939 - Recall: 0.9972 - accuracy: 0.9961 - loss: 0.0116\n",
      "Epoch 5/5\n",
      "\u001b[1m1096170/1096170\u001b[0m \u001b[32m━━━━━━━━━━━━━━━━━━━━\u001b[0m\u001b[37m\u001b[0m \u001b[1m1344s\u001b[0m 1ms/step - Precision: 0.9947 - Recall: 0.9975 - accuracy: 0.9966 - loss: 0.0103\n"
     ]
    },
    {
     "data": {
      "text/plain": [
       "<keras.src.callbacks.history.History at 0x1554d471d8d0>"
      ]
     },
     "execution_count": 7,
     "metadata": {},
     "output_type": "execute_result"
    }
   ],
   "source": [
    "model.fit(X_train_scaled, y_train, epochs=5, batch_size=32, callbacks=[early_stopping]) #, validation_data=(X_test_scaled, y_test)"
   ]
  },
  {
   "cell_type": "code",
   "execution_count": 18,
   "id": "2e91dd0f",
   "metadata": {
    "scrolled": false
   },
   "outputs": [
    {
     "name": "stdout",
     "output_type": "stream",
     "text": [
      "\u001b[1m1282580/1282580\u001b[0m \u001b[32m━━━━━━━━━━━━━━━━━━━━\u001b[0m\u001b[37m\u001b[0m \u001b[1m1457s\u001b[0m 1ms/step - Precision: 0.9854 - Recall: 0.9981 - accuracy: 0.9975 - loss: 0.0078\n",
      "Test accuracy: [0.00792520958930254, 0.9985365271568298, 0.9853955507278442, 0.9980626702308655]\n",
      "\u001b[1m1282580/1282580\u001b[0m \u001b[32m━━━━━━━━━━━━━━━━━━━━\u001b[0m\u001b[37m\u001b[0m \u001b[1m822s\u001b[0m 640us/step\n"
     ]
    },
    {
     "name": "stderr",
     "output_type": "stream",
     "text": [
      "WARNING:absl:You are saving your model as an HDF5 file via `model.save()` or `keras.saving.save_model(model)`. This file format is considered legacy. We recommend using instead the native Keras format, e.g. `model.save('my_model.keras')` or `keras.saving.save_model(model, 'my_model.keras')`. \n"
     ]
    }
   ],
   "source": [
    "test_dataset = tf.data.Dataset.from_tensor_slices((X_test_scaled, y_test)).batch(32)\n",
    "\n",
    "metrics = model.evaluate(test_dataset)\n",
    "print('Test accuracy:', metrics)\n",
    "\n",
    "predictions = model.predict(X_test_scaled)\n",
    "      \n",
    "model.save('NN_all_features.h5') "
   ]
  },
  {
   "cell_type": "code",
   "execution_count": 21,
   "id": "d29d6d4b",
   "metadata": {},
   "outputs": [
    {
     "name": "stdout",
     "output_type": "stream",
     "text": [
      "[[3.4347700e-05]\n",
      " [2.8648399e-05]\n",
      " [2.2584780e-05]\n",
      " ...\n",
      " [1.0000000e+00]\n",
      " [2.2674818e-05]\n",
      " [2.6188271e-05]]\n"
     ]
    }
   ],
   "source": [
    "predictions = (predictions >= 0.5).astype(int)\n",
    "print(predictions)\n",
    "model.save('NN_all_features.keras') "
   ]
  },
  {
   "cell_type": "markdown",
   "id": "54b40147",
   "metadata": {},
   "source": [
    "## Chi-Squared FS"
   ]
  },
  {
   "cell_type": "code",
   "execution_count": 11,
   "id": "675e69e3",
   "metadata": {},
   "outputs": [
    {
     "name": "stdout",
     "output_type": "stream",
     "text": [
      "Feature (0) YEAR: 39109.483068\n",
      "Feature (1) QUARTER: 2590.567289\n",
      "Feature (2) MONTH: 3030.409596\n",
      "Feature (3) DAY_OF_MONTH: 17084.767803\n",
      "Feature (4) DAY_OF_WEEK: 2865.981582\n",
      "Feature (5) OP_CARRIER_AIRLINE_ID: 99.571519\n",
      "Feature (6) ORIGIN_AIRPORT_SEQ_ID: 1598843.984088\n",
      "Feature (7) ORIGIN_CITY_MARKET_ID: 2833592.127641\n",
      "Feature (8) DEST_AIRPORT_SEQ_ID: 565711.796257\n",
      "Feature (9) DEST_CITY_MARKET_ID: 209385.954874\n",
      "Feature (10) CRS_DEP_TIME: 169480273.448274\n",
      "Feature (11) DEP_TIME: 287835731.789073\n",
      "Feature (12) CANCELLED: 9617.146234\n",
      "Feature (13) CARRIER_DELAY: 7125916.761822\n",
      "Feature (14) WEATHER_DELAY: 966734.458429\n",
      "Feature (15) NAS_DELAY: 32946.059007\n",
      "Feature (16) SECURITY_DELAY: 55189.927454\n",
      "Feature (17) LATE_AIRCRAFT_DELAY: 8003892.121785\n"
     ]
    },
    {
     "data": {
      "image/png": "[encoded data removed]",
      "text/plain": [
       "<Figure size 640x480 with 1 Axes>"
      ]
     },
     "metadata": {},
     "output_type": "display_data"
    }
   ],
   "source": [
    "from sklearn.feature_selection import SelectKBest, chi2\n",
    "import matplotlib.pyplot as plt\n",
    "\n",
    "fs_chi2 = SelectKBest(score_func=chi2, k=9)\n",
    "fs_chi2.fit(X_train, y_train)\n",
    "X_train_chi2 = fs_chi2.transform(X_train)\n",
    "X_test_chi2 = fs_chi2.transform(X_test)\n",
    "\n",
    "for i in range(len(fs_chi2.scores_)):\n",
    "\tprint('Feature (%d) %s: %f' % (i, fs_chi2.feature_names_in_[i], fs_chi2.scores_[i]))\n",
    "# plot the scores\n",
    "plt.bar([i for i in range(len(fs_chi2.scores_))], fs_chi2.scores_)\n",
    "plt.show()"
   ]
  },
  {
   "cell_type": "code",
   "execution_count": 12,
   "id": "f2db405e",
   "metadata": {},
   "outputs": [
    {
     "data": {
      "text/plain": [
       "array(['ORIGIN_AIRPORT_SEQ_ID', 'ORIGIN_CITY_MARKET_ID',\n",
       "       'DEST_AIRPORT_SEQ_ID', 'DEST_CITY_MARKET_ID', 'CRS_DEP_TIME',\n",
       "       'DEP_TIME', 'CARRIER_DELAY', 'WEATHER_DELAY',\n",
       "       'LATE_AIRCRAFT_DELAY'], dtype=object)"
      ]
     },
     "execution_count": 12,
     "metadata": {},
     "output_type": "execute_result"
    }
   ],
   "source": [
    "fs_chi2.get_feature_names_out()"
   ]
  },
  {
   "cell_type": "markdown",
   "id": "4d5b23ac",
   "metadata": {},
   "source": [
    "## Mutual FS"
   ]
  },
  {
   "cell_type": "code",
   "execution_count": 5,
   "id": "22ff35d8",
   "metadata": {},
   "outputs": [
    {
     "name": "stdout",
     "output_type": "stream",
     "text": [
      "<class 'pandas.core.frame.DataFrame'> <class 'numpy.ndarray'>\n"
     ]
    },
    {
     "data": {
      "text/html": [
       "<div>\n",
       "<style scoped>\n",
       "    .dataframe tbody tr th:only-of-type {\n",
       "        vertical-align: middle;\n",
       "    }\n",
       "\n",
       "    .dataframe tbody tr th {\n",
       "        vertical-align: top;\n",
       "    }\n",
       "\n",
       "    .dataframe thead th {\n",
       "        text-align: right;\n",
       "    }\n",
       "</style>\n",
       "<table border=\"1\" class=\"dataframe\">\n",
       "  <thead>\n",
       "    <tr style=\"text-align: right;\">\n",
       "      <th></th>\n",
       "      <th>YEAR</th>\n",
       "      <th>QUARTER</th>\n",
       "      <th>MONTH</th>\n",
       "      <th>DAY_OF_MONTH</th>\n",
       "      <th>DAY_OF_WEEK</th>\n",
       "      <th>OP_CARRIER_AIRLINE_ID</th>\n",
       "      <th>ORIGIN_AIRPORT_SEQ_ID</th>\n",
       "      <th>ORIGIN_CITY_MARKET_ID</th>\n",
       "      <th>DEST_AIRPORT_SEQ_ID</th>\n",
       "      <th>DEST_CITY_MARKET_ID</th>\n",
       "      <th>CRS_DEP_TIME</th>\n",
       "      <th>DEP_TIME</th>\n",
       "      <th>CANCELLED</th>\n",
       "      <th>CARRIER_DELAY</th>\n",
       "      <th>WEATHER_DELAY</th>\n",
       "      <th>NAS_DELAY</th>\n",
       "      <th>SECURITY_DELAY</th>\n",
       "      <th>LATE_AIRCRAFT_DELAY</th>\n",
       "      <th>DEP_DEL15</th>\n",
       "    </tr>\n",
       "  </thead>\n",
       "  <tbody>\n",
       "    <tr>\n",
       "      <th>34120108</th>\n",
       "      <td>10.0</td>\n",
       "      <td>2.0</td>\n",
       "      <td>7.0</td>\n",
       "      <td>7.0</td>\n",
       "      <td>3.0</td>\n",
       "      <td>15.0</td>\n",
       "      <td>345.0</td>\n",
       "      <td>115.0</td>\n",
       "      <td>241.0</td>\n",
       "      <td>95.0</td>\n",
       "      <td>1319.0</td>\n",
       "      <td>55.0</td>\n",
       "      <td>0.0</td>\n",
       "      <td>0.0</td>\n",
       "      <td>0.0</td>\n",
       "      <td>22.0</td>\n",
       "      <td>0.0</td>\n",
       "      <td>0.0</td>\n",
       "      <td>1</td>\n",
       "    </tr>\n",
       "    <tr>\n",
       "      <th>9991880</th>\n",
       "      <td>17.0</td>\n",
       "      <td>0.0</td>\n",
       "      <td>1.0</td>\n",
       "      <td>6.0</td>\n",
       "      <td>4.0</td>\n",
       "      <td>25.0</td>\n",
       "      <td>857.0</td>\n",
       "      <td>297.0</td>\n",
       "      <td>844.0</td>\n",
       "      <td>292.0</td>\n",
       "      <td>930.0</td>\n",
       "      <td>923.0</td>\n",
       "      <td>0.0</td>\n",
       "      <td>0.0</td>\n",
       "      <td>0.0</td>\n",
       "      <td>21.0</td>\n",
       "      <td>0.0</td>\n",
       "      <td>0.0</td>\n",
       "      <td>0</td>\n",
       "    </tr>\n",
       "    <tr>\n",
       "      <th>16128389</th>\n",
       "      <td>20.0</td>\n",
       "      <td>3.0</td>\n",
       "      <td>10.0</td>\n",
       "      <td>3.0</td>\n",
       "      <td>5.0</td>\n",
       "      <td>22.0</td>\n",
       "      <td>617.0</td>\n",
       "      <td>189.0</td>\n",
       "      <td>149.0</td>\n",
       "      <td>66.0</td>\n",
       "      <td>1438.0</td>\n",
       "      <td>1.0</td>\n",
       "      <td>0.0</td>\n",
       "      <td>0.0</td>\n",
       "      <td>0.0</td>\n",
       "      <td>21.0</td>\n",
       "      <td>0.0</td>\n",
       "      <td>0.0</td>\n",
       "      <td>0</td>\n",
       "    </tr>\n",
       "    <tr>\n",
       "      <th>7453247</th>\n",
       "      <td>0.0</td>\n",
       "      <td>0.0</td>\n",
       "      <td>0.0</td>\n",
       "      <td>14.0</td>\n",
       "      <td>2.0</td>\n",
       "      <td>12.0</td>\n",
       "      <td>700.0</td>\n",
       "      <td>126.0</td>\n",
       "      <td>705.0</td>\n",
       "      <td>85.0</td>\n",
       "      <td>1202.0</td>\n",
       "      <td>1199.0</td>\n",
       "      <td>0.0</td>\n",
       "      <td>0.0</td>\n",
       "      <td>0.0</td>\n",
       "      <td>21.0</td>\n",
       "      <td>0.0</td>\n",
       "      <td>0.0</td>\n",
       "      <td>0</td>\n",
       "    </tr>\n",
       "    <tr>\n",
       "      <th>12897042</th>\n",
       "      <td>4.0</td>\n",
       "      <td>3.0</td>\n",
       "      <td>9.0</td>\n",
       "      <td>17.0</td>\n",
       "      <td>3.0</td>\n",
       "      <td>7.0</td>\n",
       "      <td>651.0</td>\n",
       "      <td>150.0</td>\n",
       "      <td>726.0</td>\n",
       "      <td>210.0</td>\n",
       "      <td>514.0</td>\n",
       "      <td>520.0</td>\n",
       "      <td>0.0</td>\n",
       "      <td>0.0</td>\n",
       "      <td>0.0</td>\n",
       "      <td>21.0</td>\n",
       "      <td>0.0</td>\n",
       "      <td>0.0</td>\n",
       "      <td>0</td>\n",
       "    </tr>\n",
       "    <tr>\n",
       "      <th>...</th>\n",
       "      <td>...</td>\n",
       "      <td>...</td>\n",
       "      <td>...</td>\n",
       "      <td>...</td>\n",
       "      <td>...</td>\n",
       "      <td>...</td>\n",
       "      <td>...</td>\n",
       "      <td>...</td>\n",
       "      <td>...</td>\n",
       "      <td>...</td>\n",
       "      <td>...</td>\n",
       "      <td>...</td>\n",
       "      <td>...</td>\n",
       "      <td>...</td>\n",
       "      <td>...</td>\n",
       "      <td>...</td>\n",
       "      <td>...</td>\n",
       "      <td>...</td>\n",
       "      <td>...</td>\n",
       "    </tr>\n",
       "    <tr>\n",
       "      <th>27139899</th>\n",
       "      <td>20.0</td>\n",
       "      <td>3.0</td>\n",
       "      <td>9.0</td>\n",
       "      <td>5.0</td>\n",
       "      <td>4.0</td>\n",
       "      <td>25.0</td>\n",
       "      <td>514.0</td>\n",
       "      <td>125.0</td>\n",
       "      <td>701.0</td>\n",
       "      <td>126.0</td>\n",
       "      <td>950.0</td>\n",
       "      <td>975.0</td>\n",
       "      <td>0.0</td>\n",
       "      <td>0.0</td>\n",
       "      <td>0.0</td>\n",
       "      <td>21.0</td>\n",
       "      <td>0.0</td>\n",
       "      <td>0.0</td>\n",
       "      <td>1</td>\n",
       "    </tr>\n",
       "    <tr>\n",
       "      <th>32073994</th>\n",
       "      <td>5.0</td>\n",
       "      <td>1.0</td>\n",
       "      <td>5.0</td>\n",
       "      <td>5.0</td>\n",
       "      <td>4.0</td>\n",
       "      <td>11.0</td>\n",
       "      <td>144.0</td>\n",
       "      <td>64.0</td>\n",
       "      <td>314.0</td>\n",
       "      <td>29.0</td>\n",
       "      <td>1116.0</td>\n",
       "      <td>1361.0</td>\n",
       "      <td>0.0</td>\n",
       "      <td>0.0</td>\n",
       "      <td>0.0</td>\n",
       "      <td>21.0</td>\n",
       "      <td>0.0</td>\n",
       "      <td>1.0</td>\n",
       "      <td>1</td>\n",
       "    </tr>\n",
       "    <tr>\n",
       "      <th>27140954</th>\n",
       "      <td>1.0</td>\n",
       "      <td>3.0</td>\n",
       "      <td>11.0</td>\n",
       "      <td>18.0</td>\n",
       "      <td>6.0</td>\n",
       "      <td>11.0</td>\n",
       "      <td>1035.0</td>\n",
       "      <td>329.0</td>\n",
       "      <td>941.0</td>\n",
       "      <td>324.0</td>\n",
       "      <td>1244.0</td>\n",
       "      <td>1370.0</td>\n",
       "      <td>0.0</td>\n",
       "      <td>0.0</td>\n",
       "      <td>0.0</td>\n",
       "      <td>22.0</td>\n",
       "      <td>0.0</td>\n",
       "      <td>0.0</td>\n",
       "      <td>1</td>\n",
       "    </tr>\n",
       "    <tr>\n",
       "      <th>10988330</th>\n",
       "      <td>17.0</td>\n",
       "      <td>1.0</td>\n",
       "      <td>5.0</td>\n",
       "      <td>6.0</td>\n",
       "      <td>6.0</td>\n",
       "      <td>6.0</td>\n",
       "      <td>80.0</td>\n",
       "      <td>34.0</td>\n",
       "      <td>871.0</td>\n",
       "      <td>18.0</td>\n",
       "      <td>1203.0</td>\n",
       "      <td>1198.0</td>\n",
       "      <td>0.0</td>\n",
       "      <td>0.0</td>\n",
       "      <td>0.0</td>\n",
       "      <td>21.0</td>\n",
       "      <td>0.0</td>\n",
       "      <td>0.0</td>\n",
       "      <td>0</td>\n",
       "    </tr>\n",
       "    <tr>\n",
       "      <th>23661319</th>\n",
       "      <td>18.0</td>\n",
       "      <td>2.0</td>\n",
       "      <td>8.0</td>\n",
       "      <td>18.0</td>\n",
       "      <td>6.0</td>\n",
       "      <td>1.0</td>\n",
       "      <td>1027.0</td>\n",
       "      <td>210.0</td>\n",
       "      <td>1048.0</td>\n",
       "      <td>219.0</td>\n",
       "      <td>514.0</td>\n",
       "      <td>558.0</td>\n",
       "      <td>0.0</td>\n",
       "      <td>0.0</td>\n",
       "      <td>0.0</td>\n",
       "      <td>21.0</td>\n",
       "      <td>1.0</td>\n",
       "      <td>1.0</td>\n",
       "      <td>1</td>\n",
       "    </tr>\n",
       "  </tbody>\n",
       "</table>\n",
       "<p>1000000 rows × 19 columns</p>\n",
       "</div>"
      ],
      "text/plain": [
       "          YEAR  QUARTER  MONTH  DAY_OF_MONTH  DAY_OF_WEEK  \\\n",
       "34120108  10.0      2.0    7.0           7.0          3.0   \n",
       "9991880   17.0      0.0    1.0           6.0          4.0   \n",
       "16128389  20.0      3.0   10.0           3.0          5.0   \n",
       "7453247    0.0      0.0    0.0          14.0          2.0   \n",
       "12897042   4.0      3.0    9.0          17.0          3.0   \n",
       "...        ...      ...    ...           ...          ...   \n",
       "27139899  20.0      3.0    9.0           5.0          4.0   \n",
       "32073994   5.0      1.0    5.0           5.0          4.0   \n",
       "27140954   1.0      3.0   11.0          18.0          6.0   \n",
       "10988330  17.0      1.0    5.0           6.0          6.0   \n",
       "23661319  18.0      2.0    8.0          18.0          6.0   \n",
       "\n",
       "          OP_CARRIER_AIRLINE_ID  ORIGIN_AIRPORT_SEQ_ID  ORIGIN_CITY_MARKET_ID  \\\n",
       "34120108                   15.0                  345.0                  115.0   \n",
       "9991880                    25.0                  857.0                  297.0   \n",
       "16128389                   22.0                  617.0                  189.0   \n",
       "7453247                    12.0                  700.0                  126.0   \n",
       "12897042                    7.0                  651.0                  150.0   \n",
       "...                         ...                    ...                    ...   \n",
       "27139899                   25.0                  514.0                  125.0   \n",
       "32073994                   11.0                  144.0                   64.0   \n",
       "27140954                   11.0                 1035.0                  329.0   \n",
       "10988330                    6.0                   80.0                   34.0   \n",
       "23661319                    1.0                 1027.0                  210.0   \n",
       "\n",
       "          DEST_AIRPORT_SEQ_ID  DEST_CITY_MARKET_ID  CRS_DEP_TIME  DEP_TIME  \\\n",
       "34120108                241.0                 95.0        1319.0      55.0   \n",
       "9991880                 844.0                292.0         930.0     923.0   \n",
       "16128389                149.0                 66.0        1438.0       1.0   \n",
       "7453247                 705.0                 85.0        1202.0    1199.0   \n",
       "12897042                726.0                210.0         514.0     520.0   \n",
       "...                       ...                  ...           ...       ...   \n",
       "27139899                701.0                126.0         950.0     975.0   \n",
       "32073994                314.0                 29.0        1116.0    1361.0   \n",
       "27140954                941.0                324.0        1244.0    1370.0   \n",
       "10988330                871.0                 18.0        1203.0    1198.0   \n",
       "23661319               1048.0                219.0         514.0     558.0   \n",
       "\n",
       "          CANCELLED  CARRIER_DELAY  WEATHER_DELAY  NAS_DELAY  SECURITY_DELAY  \\\n",
       "34120108        0.0            0.0            0.0       22.0             0.0   \n",
       "9991880         0.0            0.0            0.0       21.0             0.0   \n",
       "16128389        0.0            0.0            0.0       21.0             0.0   \n",
       "7453247         0.0            0.0            0.0       21.0             0.0   \n",
       "12897042        0.0            0.0            0.0       21.0             0.0   \n",
       "...             ...            ...            ...        ...             ...   \n",
       "27139899        0.0            0.0            0.0       21.0             0.0   \n",
       "32073994        0.0            0.0            0.0       21.0             0.0   \n",
       "27140954        0.0            0.0            0.0       22.0             0.0   \n",
       "10988330        0.0            0.0            0.0       21.0             0.0   \n",
       "23661319        0.0            0.0            0.0       21.0             1.0   \n",
       "\n",
       "          LATE_AIRCRAFT_DELAY  DEP_DEL15  \n",
       "34120108                  0.0          1  \n",
       "9991880                   0.0          0  \n",
       "16128389                  0.0          0  \n",
       "7453247                   0.0          0  \n",
       "12897042                  0.0          0  \n",
       "...                       ...        ...  \n",
       "27139899                  0.0          1  \n",
       "32073994                  1.0          1  \n",
       "27140954                  0.0          1  \n",
       "10988330                  0.0          0  \n",
       "23661319                  1.0          1  \n",
       "\n",
       "[1000000 rows x 19 columns]"
      ]
     },
     "execution_count": 5,
     "metadata": {},
     "output_type": "execute_result"
    }
   ],
   "source": [
    "print(type(X_train), type(y_train))\n",
    "y_train_df = pd.DataFrame(y_train, columns=['DEP_DEL15'])\n",
    "df_mifs = pd.concat([X_train, y_train_df], axis = 1)\n",
    "rand_samp = df_mifs.sample(n=10**6, axis = 0)\n",
    "rand_samp"
   ]
  },
  {
   "cell_type": "code",
   "execution_count": 6,
   "id": "e3c57352",
   "metadata": {},
   "outputs": [],
   "source": [
    "X_train_mifs = rand_samp.drop(columns=['DEP_DEL15'])\n",
    "y_train_mifs = rand_samp['DEP_DEL15']"
   ]
  },
  {
   "cell_type": "code",
   "execution_count": 7,
   "id": "6df9d875",
   "metadata": {},
   "outputs": [
    {
     "name": "stdout",
     "output_type": "stream",
     "text": [
      "Feature (0) YEAR: 0.009064\n",
      "Feature (1) QUARTER: 0.026370\n",
      "Feature (2) MONTH: 0.013578\n",
      "Feature (3) DAY_OF_MONTH: 0.003593\n",
      "Feature (4) DAY_OF_WEEK: 0.020073\n",
      "Feature (5) OP_CARRIER_AIRLINE_ID: 0.011637\n",
      "Feature (6) ORIGIN_AIRPORT_SEQ_ID: 0.008180\n",
      "Feature (7) ORIGIN_CITY_MARKET_ID: 0.007250\n",
      "Feature (8) DEST_AIRPORT_SEQ_ID: 0.005742\n",
      "Feature (9) DEST_CITY_MARKET_ID: 0.006854\n",
      "Feature (10) CRS_DEP_TIME: 0.030259\n",
      "Feature (11) DEP_TIME: 0.061476\n",
      "Feature (12) CANCELLED: 0.000000\n",
      "Feature (13) CARRIER_DELAY: 0.190732\n",
      "Feature (14) WEATHER_DELAY: 0.018278\n",
      "Feature (15) NAS_DELAY: 0.141936\n",
      "Feature (16) SECURITY_DELAY: 0.000964\n",
      "Feature (17) LATE_AIRCRAFT_DELAY: 0.223861\n"
     ]
    },
    {
     "data": {
      "image/png": "[encoded data removed]",
      "text/plain": [
       "<Figure size 640x480 with 1 Axes>"
      ]
     },
     "metadata": {},
     "output_type": "display_data"
    }
   ],
   "source": [
    "from sklearn.feature_selection import mutual_info_classif\n",
    "from sklearn.feature_selection import SelectKBest\n",
    "import matplotlib.pyplot as plt\n",
    "\n",
    "fs_mutual_info_classif = SelectKBest(score_func=mutual_info_classif, k=9)\n",
    "fs_mutual_info_classif.fit(X_train_mifs, y_train_mifs)\n",
    "fs_mutual_info_classif.transform(X_train_mifs)\n",
    "\n",
    "for i in range(len(fs_mutual_info_classif.scores_)):\n",
    "\tprint('Feature (%d) %s: %f' % (i, fs_mutual_info_classif.feature_names_in_[i], fs_mutual_info_classif.scores_[i]))\n",
    "# plot the scores\n",
    "plt.bar([i for i in range(len(fs_mutual_info_classif.scores_))], fs_mutual_info_classif.scores_)\n",
    "plt.show()"
   ]
  },
  {
   "cell_type": "code",
   "execution_count": 8,
   "id": "e82663b3",
   "metadata": {},
   "outputs": [
    {
     "data": {
      "text/plain": [
       "array(['QUARTER', 'MONTH', 'DAY_OF_WEEK', 'CRS_DEP_TIME', 'DEP_TIME',\n",
       "       'CARRIER_DELAY', 'WEATHER_DELAY', 'NAS_DELAY',\n",
       "       'LATE_AIRCRAFT_DELAY'], dtype=object)"
      ]
     },
     "execution_count": 8,
     "metadata": {},
     "output_type": "execute_result"
    }
   ],
   "source": [
    "fs_mutual_info_classif.get_feature_names_out()"
   ]
  },
  {
   "cell_type": "markdown",
   "id": "80656e65",
   "metadata": {},
   "source": [
    "## Test with Chi-Squared"
   ]
  },
  {
   "cell_type": "code",
   "execution_count": 31,
   "id": "1630655d",
   "metadata": {},
   "outputs": [
    {
     "name": "stdout",
     "output_type": "stream",
     "text": [
      "Epoch 1/5\n"
     ]
    },
    {
     "name": "stderr",
     "output_type": "stream",
     "text": [
      "WARNING: All log messages before absl::InitializeLog() is called are written to STDERR\n",
      "I0000 00:00:1732736744.351577 1280677 service.cc:146] XLA service 0x154f000058b0 initialized for platform CUDA (this does not guarantee that XLA will be used). Devices:\n",
      "I0000 00:00:1732736744.351606 1280677 service.cc:154]   StreamExecutor device (0): NVIDIA L40S, Compute Capability 8.9\n",
      "2024-11-27 14:45:44.382094: I tensorflow/compiler/mlir/tensorflow/utils/dump_mlir_util.cc:268] disabling MLIR crash reproducer, set env var `MLIR_CRASH_REPRODUCER_DIRECTORY` to enable.\n",
      "2024-11-27 14:45:44.541784: I external/local_xla/xla/stream_executor/cuda/cuda_dnn.cc:531] Loaded cuDNN version 8907\n"
     ]
    },
    {
     "name": "stdout",
     "output_type": "stream",
     "text": [
      "\u001b[1m    122/1096170\u001b[0m \u001b[37m━━━━━━━━━━━━━━━━━━━━\u001b[0m \u001b[1m22:50\u001b[0m 1ms/step - Precision: 0.6903 - Recall: 0.8620 - accuracy: 0.7191 - loss: 0.5428"
     ]
    },
    {
     "name": "stderr",
     "output_type": "stream",
     "text": [
      "I0000 00:00:1732736745.701870 1280677 device_compiler.h:188] Compiled cluster using XLA!  This line is logged at most once for the lifetime of the process.\n"
     ]
    },
    {
     "name": "stdout",
     "output_type": "stream",
     "text": [
      "\u001b[1m1096170/1096170\u001b[0m \u001b[32m━━━━━━━━━━━━━━━━━━━━\u001b[0m\u001b[37m\u001b[0m \u001b[1m1335s\u001b[0m 1ms/step - Precision: 0.9878 - Recall: 0.9897 - accuracy: 0.9894 - loss: 0.0302\n",
      "Epoch 2/5\n"
     ]
    },
    {
     "name": "stderr",
     "output_type": "stream",
     "text": [
      "/home/hice1/abahar6/.local/lib/python3.10/site-packages/keras/src/callbacks/early_stopping.py:153: UserWarning: Early stopping conditioned on metric `val_loss` which is not available. Available metrics are: Precision,Recall,accuracy,loss\n",
      "  current = self.get_monitor_value(logs)\n"
     ]
    },
    {
     "name": "stdout",
     "output_type": "stream",
     "text": [
      "\u001b[1m1096170/1096170\u001b[0m \u001b[32m━━━━━━━━━━━━━━━━━━━━\u001b[0m\u001b[37m\u001b[0m \u001b[1m1353s\u001b[0m 1ms/step - Precision: 0.9938 - Recall: 0.9967 - accuracy: 0.9958 - loss: 0.0122\n",
      "Epoch 3/5\n",
      "\u001b[1m1096170/1096170\u001b[0m \u001b[32m━━━━━━━━━━━━━━━━━━━━\u001b[0m\u001b[37m\u001b[0m \u001b[1m1369s\u001b[0m 1ms/step - Precision: 0.9951 - Recall: 0.9974 - accuracy: 0.9967 - loss: 0.0099\n",
      "Epoch 4/5\n",
      "\u001b[1m1096170/1096170\u001b[0m \u001b[32m━━━━━━━━━━━━━━━━━━━━\u001b[0m\u001b[37m\u001b[0m \u001b[1m1366s\u001b[0m 1ms/step - Precision: 0.9959 - Recall: 0.9978 - accuracy: 0.9972 - loss: 0.0084\n",
      "Epoch 5/5\n",
      "\u001b[1m1096170/1096170\u001b[0m \u001b[32m━━━━━━━━━━━━━━━━━━━━\u001b[0m\u001b[37m\u001b[0m \u001b[1m1358s\u001b[0m 1ms/step - Precision: 0.9964 - Recall: 0.9980 - accuracy: 0.9976 - loss: 0.0074\n"
     ]
    },
    {
     "data": {
      "text/plain": [
       "<keras.src.callbacks.history.History at 0x15543c868850>"
      ]
     },
     "execution_count": 31,
     "metadata": {},
     "output_type": "execute_result"
    }
   ],
   "source": [
    "from tensorflow.keras.layers import Dense, Dropout, BatchNormalization\n",
    "from tensorflow.keras import Input\n",
    "from tensorflow.keras.callbacks import EarlyStopping\n",
    "import joblib\n",
    "\n",
    "scaler = StandardScaler()\n",
    "X_train_scaled = scaler.fit_transform(X_train)\n",
    "X_test_scaled = scaler.transform(X_test)\n",
    "\n",
    "early_stopping = EarlyStopping(\n",
    "    monitor='val_loss', \n",
    "    patience=3,  # Stop after 3 epochs without improvement\n",
    "    restore_best_weights=True\n",
    ")\n",
    "\n",
    "selected_indices = fs_chi2.get_support(indices=True)\n",
    "\n",
    "model = Sequential([\n",
    "    Input(shape=(X_train_scaled[:, selected_indices].shape[1],)),\n",
    "    Dense(64, activation='relu'),\n",
    "    Dense(32, activation='relu'),\n",
    "    Dense(1, activation='sigmoid')  # For binary classification (delayed or not)\n",
    "])\n",
    "\n",
    "model.compile(loss='binary_crossentropy', optimizer='adam', metrics=['accuracy', 'Precision', 'Recall'])\n",
    "\n",
    "model.fit(X_train_scaled[:, selected_indices], y_train, epochs=5, batch_size=32, callbacks=[early_stopping]) #, validation_data=(X_test_scaled, y_test)# evaluate the model"
   ]
  },
  {
   "cell_type": "code",
   "execution_count": 33,
   "id": "5034a479",
   "metadata": {},
   "outputs": [
    {
     "name": "stdout",
     "output_type": "stream",
     "text": [
      "\u001b[1m1282580/1282580\u001b[0m \u001b[32m━━━━━━━━━━━━━━━━━━━━\u001b[0m\u001b[37m\u001b[0m \u001b[1m1446s\u001b[0m 1ms/step - Precision: 0.9891 - Recall: 1.0000 - accuracy: 0.9984 - loss: 0.0052\n",
      "Test metrics: [0.005178843159228563, 0.99906986951828, 0.9891167283058167, 0.9999602437019348]\n",
      "\u001b[1m1282580/1282580\u001b[0m \u001b[32m━━━━━━━━━━━━━━━━━━━━\u001b[0m\u001b[37m\u001b[0m \u001b[1m833s\u001b[0m 649us/step\n"
     ]
    }
   ],
   "source": [
    "X_test_chi2 = X_test_scaled[:, selected_indices]\n",
    "\n",
    "test_dataset = tf.data.Dataset.from_tensor_slices((X_test_chi2, y_test)).batch(32)\n",
    "metrics = model.evaluate(test_dataset)\n",
    "\n",
    "print('Test metrics:', metrics)\n",
    "\n",
    "yhat = model.predict(X_test_chi2)"
   ]
  },
  {
   "cell_type": "code",
   "execution_count": 35,
   "id": "75eab183",
   "metadata": {},
   "outputs": [
    {
     "name": "stdout",
     "output_type": "stream",
     "text": [
      "Predicted:\n",
      "[[0]\n",
      " [0]\n",
      " [0]\n",
      " ...\n",
      " [1]\n",
      " [0]\n",
      " [0]]\n"
     ]
    },
    {
     "name": "stderr",
     "output_type": "stream",
     "text": [
      "WARNING:absl:You are saving your model as an HDF5 file via `model.save()` or `keras.saving.save_model(model)`. This file format is considered legacy. We recommend using instead the native Keras format, e.g. `model.save('my_model.keras')` or `keras.saving.save_model(model, 'my_model.keras')`. \n"
     ]
    },
    {
     "name": "stdout",
     "output_type": "stream",
     "text": [
      "Accuracy: 99.80\n"
     ]
    }
   ],
   "source": [
    "from sklearn.metrics import accuracy_score\n",
    "\n",
    "yhat = (yhat >= 0.5).astype(int)\n",
    "print(\"Predicted:\")\n",
    "print(yhat)\n",
    "\n",
    "accuracy = accuracy_score(y_test, yhat)\n",
    "print('Accuracy: %.2f' % (accuracy*100))\n",
    "\n",
    "model.save('NN_chi2.h5')\n",
    "model.save('NN_chi2.keras')"
   ]
  },
  {
   "cell_type": "markdown",
   "id": "9c42734f",
   "metadata": {},
   "source": [
    "## Test Model Using Mutual Information Features"
   ]
  },
  {
   "cell_type": "code",
   "execution_count": 9,
   "id": "fcdc880c",
   "metadata": {},
   "outputs": [
    {
     "name": "stderr",
     "output_type": "stream",
     "text": [
      "2024-11-27 22:25:48.280656: I tensorflow/core/common_runtime/gpu/gpu_device.cc:2021] Created device /job:localhost/replica:0/task:0/device:GPU:0 with 14784 MB memory:  -> device: 0, name: Tesla V100-PCIE-16GB, pci bus id: 0000:3b:00.0, compute capability: 7.0\n"
     ]
    },
    {
     "name": "stdout",
     "output_type": "stream",
     "text": [
      "Epoch 1/5\n"
     ]
    },
    {
     "name": "stderr",
     "output_type": "stream",
     "text": [
      "WARNING: All log messages before absl::InitializeLog() is called are written to STDERR\n",
      "I0000 00:00:1732764355.819497  982764 service.cc:146] XLA service 0x154dd00058a0 initialized for platform CUDA (this does not guarantee that XLA will be used). Devices:\n",
      "I0000 00:00:1732764355.819526  982764 service.cc:154]   StreamExecutor device (0): Tesla V100-PCIE-16GB, Compute Capability 7.0\n",
      "2024-11-27 22:25:55.892610: I tensorflow/compiler/mlir/tensorflow/utils/dump_mlir_util.cc:268] disabling MLIR crash reproducer, set env var `MLIR_CRASH_REPRODUCER_DIRECTORY` to enable.\n",
      "2024-11-27 22:25:56.162322: I external/local_xla/xla/stream_executor/cuda/cuda_dnn.cc:531] Loaded cuDNN version 8907\n"
     ]
    },
    {
     "name": "stdout",
     "output_type": "stream",
     "text": [
      "\u001b[1m     92/1096170\u001b[0m \u001b[37m━━━━━━━━━━━━━━━━━━━━\u001b[0m \u001b[1m30:26\u001b[0m 2ms/step - Precision: 0.7948 - Recall: 0.6031 - accuracy: 0.7267 - loss: 0.5603        "
     ]
    },
    {
     "name": "stderr",
     "output_type": "stream",
     "text": [
      "I0000 00:00:1732764357.196542  982764 device_compiler.h:188] Compiled cluster using XLA!  This line is logged at most once for the lifetime of the process.\n"
     ]
    },
    {
     "name": "stdout",
     "output_type": "stream",
     "text": [
      "\u001b[1m1096170/1096170\u001b[0m \u001b[32m━━━━━━━━━━━━━━━━━━━━\u001b[0m\u001b[37m\u001b[0m \u001b[1m1741s\u001b[0m 2ms/step - Precision: 0.9876 - Recall: 0.9901 - accuracy: 0.9895 - loss: 0.0297\n",
      "Epoch 2/5\n"
     ]
    },
    {
     "name": "stderr",
     "output_type": "stream",
     "text": [
      "/home/hice1/abahar6/.local/lib/python3.10/site-packages/keras/src/callbacks/early_stopping.py:153: UserWarning: Early stopping conditioned on metric `val_loss` which is not available. Available metrics are: Precision,Recall,accuracy,loss\n",
      "  current = self.get_monitor_value(logs)\n"
     ]
    },
    {
     "name": "stdout",
     "output_type": "stream",
     "text": [
      "\u001b[1m1096170/1096170\u001b[0m \u001b[32m━━━━━━━━━━━━━━━━━━━━\u001b[0m\u001b[37m\u001b[0m \u001b[1m1728s\u001b[0m 2ms/step - Precision: 0.9940 - Recall: 0.9968 - accuracy: 0.9959 - loss: 0.0120\n",
      "Epoch 3/5\n",
      "\u001b[1m1096170/1096170\u001b[0m \u001b[32m━━━━━━━━━━━━━━━━━━━━\u001b[0m\u001b[37m\u001b[0m \u001b[1m1712s\u001b[0m 2ms/step - Precision: 0.9952 - Recall: 0.9974 - accuracy: 0.9967 - loss: 0.0098\n",
      "Epoch 4/5\n",
      "\u001b[1m1096170/1096170\u001b[0m \u001b[32m━━━━━━━━━━━━━━━━━━━━\u001b[0m\u001b[37m\u001b[0m \u001b[1m1708s\u001b[0m 2ms/step - Precision: 0.9959 - Recall: 0.9978 - accuracy: 0.9973 - loss: 0.0089\n",
      "Epoch 5/5\n",
      "\u001b[1m1096170/1096170\u001b[0m \u001b[32m━━━━━━━━━━━━━━━━━━━━\u001b[0m\u001b[37m\u001b[0m \u001b[1m1705s\u001b[0m 2ms/step - Precision: 0.9965 - Recall: 0.9979 - accuracy: 0.9976 - loss: 0.0081\n"
     ]
    },
    {
     "data": {
      "text/plain": [
       "<keras.src.callbacks.history.History at 0x1554c2a8be80>"
      ]
     },
     "execution_count": 9,
     "metadata": {},
     "output_type": "execute_result"
    }
   ],
   "source": [
    "from tensorflow.keras.layers import Dense, Dropout, BatchNormalization\n",
    "from tensorflow.keras import Input\n",
    "from tensorflow.keras.callbacks import EarlyStopping\n",
    "import joblib\n",
    "\n",
    "scaler = StandardScaler()\n",
    "X_train_scaled = scaler.fit_transform(X_train)\n",
    "X_test_scaled = scaler.transform(X_test)\n",
    "\n",
    "early_stopping = EarlyStopping(\n",
    "    monitor='val_loss', \n",
    "    patience=3,  # Stop after 3 epochs without improvement\n",
    "    restore_best_weights=True\n",
    ")\n",
    "\n",
    "selected_indices = fs_mutual_info_classif.get_support(indices=True)\n",
    "\n",
    "model = Sequential([\n",
    "    Input(shape=(X_train_scaled[:, selected_indices].shape[1],)),\n",
    "    Dense(64, activation='relu'),\n",
    "    Dense(32, activation='relu'),\n",
    "    Dense(1, activation='sigmoid')  # For binary classification (delayed or not)\n",
    "])\n",
    "\n",
    "model.compile(loss='binary_crossentropy', optimizer='adam', metrics=['accuracy', 'Precision', 'Recall'])\n",
    "\n",
    "model.fit(X_train_scaled[:, selected_indices], y_train, epochs=5, batch_size=32, callbacks=[early_stopping]) #, validation_data=(X_test_scaled, y_test)# evaluate the model"
   ]
  },
  {
   "cell_type": "code",
   "execution_count": 10,
   "id": "338eaad0",
   "metadata": {},
   "outputs": [
    {
     "name": "stdout",
     "output_type": "stream",
     "text": [
      "\u001b[1m1282580/1282580\u001b[0m \u001b[32m━━━━━━━━━━━━━━━━━━━━\u001b[0m\u001b[37m\u001b[0m \u001b[1m1850s\u001b[0m 1ms/step - Precision: 0.9892 - Recall: 0.9997 - accuracy: 0.9983 - loss: 0.0052\n"
     ]
    }
   ],
   "source": [
    "X_test_mi = X_test_scaled[:, selected_indices]\n",
    "\n",
    "test_dataset = tf.data.Dataset.from_tensor_slices((X_test_mi, y_test)).batch(32)\n",
    "metrics = model.evaluate(test_dataset)\n"
   ]
  },
  {
   "cell_type": "code",
   "execution_count": 11,
   "id": "80d78b63",
   "metadata": {},
   "outputs": [
    {
     "name": "stderr",
     "output_type": "stream",
     "text": [
      "WARNING:absl:You are saving your model as an HDF5 file via `model.save()` or `keras.saving.save_model(model)`. This file format is considered legacy. We recommend using instead the native Keras format, e.g. `model.save('my_model.keras')` or `keras.saving.save_model(model, 'my_model.keras')`. \n"
     ]
    },
    {
     "name": "stdout",
     "output_type": "stream",
     "text": [
      "\u001b[1m1282580/1282580\u001b[0m \u001b[32m━━━━━━━━━━━━━━━━━━━━\u001b[0m\u001b[37m\u001b[0m \u001b[1m1083s\u001b[0m 845us/step\n",
      "Predicted:\n",
      "[[0]\n",
      " [0]\n",
      " [0]\n",
      " ...\n",
      " [1]\n",
      " [0]\n",
      " [0]]\n",
      "Accuracy: 99.79\n"
     ]
    }
   ],
   "source": [
    "from sklearn.metrics import accuracy_score\n",
    "\n",
    "model.save('NN_mutual_info.h5')\n",
    "model.save('NN_mutual_info.keras')\n",
    "\n",
    "yhat = model.predict(X_test_mi)\n",
    "yhat = (yhat >= 0.5).astype(int)\n",
    "print(\"Predicted:\")\n",
    "print(yhat)"
   ]
  },
  {
   "cell_type": "code",
   "execution_count": null,
   "id": "ed3f3904",
   "metadata": {},
   "outputs": [],
   "source": [
    "accuracy = accuracy_score(y_test, yhat)\n",
    "print('Accuracy: %.2f' % (accuracy*100))"
   ]
  },
  {
   "cell_type": "markdown",
   "id": "0fd84b39",
   "metadata": {},
   "source": []
  },
  {
   "cell_type": "code",
   "execution_count": null,
   "id": "9ea75853",
   "metadata": {},
   "outputs": [],
   "source": []
  }
 ],
 "metadata": {
  "kernelspec": {
   "display_name": "Python 3 (ipykernel)",
   "language": "python",
   "name": "python3"
  },
  "language_info": {
   "codemirror_mode": {
    "name": "ipython",
    "version": 3
   },
   "file_extension": ".py",
   "mimetype": "text/x-python",
   "name": "python",
   "nbconvert_exporter": "python",
   "pygments_lexer": "ipython3",
   "version": "3.10.13"
  }
 },
 "nbformat": 4,
 "nbformat_minor": 5
}
